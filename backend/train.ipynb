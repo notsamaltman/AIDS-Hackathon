{
 "cells": [
  {
   "cell_type": "code",
   "execution_count": 5,
   "id": "54486df8",
   "metadata": {},
   "outputs": [
    {
     "name": "stdout",
     "output_type": "stream",
     "text": [
      "{'label': 1, 'probability': np.float64(0.998892035148406), 'word_scores': {'breaking': np.float64(0.6867727632543422), 'happened': np.float64(0.6179266833130268)}}\n"
     ]
    }
   ],
   "source": [
    "import pandas as pd\n",
    "from sklearn.model_selection import train_test_split\n",
    "from sklearn.feature_extraction.text import TfidfVectorizer\n",
    "from sklearn.linear_model import LogisticRegression\n",
    "import joblib\n",
    "import numpy as np\n",
    "\n",
    "# Load dataset\n",
    "df = pd.read_csv(\"WELFake_Dataset.csv\", encoding=\"latin1\")\n",
    "\n",
    "# Drop rows with missing title, text, or label\n",
    "df = df.dropna(subset=['title', 'text', 'label'])\n",
    "\n",
    "# Binary labels: 0 (real), 1 (fake)\n",
    "df = df[df['label'].isin([0, 1])]\n",
    "df['label'] = df['label'].astype(int)\n",
    "\n",
    "# Combine title + text\n",
    "df['content'] = df['title'].astype(str) + \" \" + df['text'].astype(str)\n",
    "\n",
    "X = df['content']\n",
    "y = df['label']\n",
    "\n",
    "# Train/test split\n",
    "X_train, X_test, y_train, y_test = train_test_split(X, y, test_size=0.2, random_state=42)\n",
    "\n",
    "# TF-IDF vectorizer\n",
    "vectorizer = TfidfVectorizer(max_features=5000, stop_words='english')\n",
    "X_train_vec = vectorizer.fit_transform(X_train)\n",
    "X_test_vec = vectorizer.transform(X_test)\n",
    "\n",
    "# Logistic Regression\n",
    "clf = LogisticRegression(max_iter=1000)\n",
    "clf.fit(X_train_vec, y_train)\n",
    "\n",
    "# Save models\n",
    "joblib.dump(vectorizer, \"tfidf_vectorizer.joblib\")\n",
    "joblib.dump(clf, \"logistic_model.joblib\")\n",
    "\n",
    "# Example: predict probability and word scores for a single text\n",
    "def predict_example(text):\n",
    "    vec = vectorizer.transform([text])\n",
    "    prob = clf.predict_proba(vec)[0]\n",
    "    pred = int(clf.predict(vec)[0])\n",
    "    \n",
    "    # Word-level scores\n",
    "    feature_names = vectorizer.get_feature_names_out()\n",
    "    word_scores = {}\n",
    "    words = text.lower().split()\n",
    "    for w in words:\n",
    "        if w in feature_names:\n",
    "            idx = np.where(feature_names == w)[0][0]\n",
    "            word_scores[w] = prob[1] * vec[0, idx]  # simplistic contribution score\n",
    "    return {\"label\": pred, \"probability\": prob[1], \"word_scores\": word_scores}\n",
    "\n",
    "print(predict_example(\"Breaking news: something happened here\"))\n"
   ]
  },
  {
   "cell_type": "code",
   "execution_count": null,
   "id": "b47f378c",
   "metadata": {},
   "outputs": [],
   "source": []
  }
 ],
 "metadata": {
  "kernelspec": {
   "display_name": "Python 3",
   "language": "python",
   "name": "python3"
  },
  "language_info": {
   "codemirror_mode": {
    "name": "ipython",
    "version": 3
   },
   "file_extension": ".py",
   "mimetype": "text/x-python",
   "name": "python",
   "nbconvert_exporter": "python",
   "pygments_lexer": "ipython3",
   "version": "3.13.5"
  }
 },
 "nbformat": 4,
 "nbformat_minor": 5
}
